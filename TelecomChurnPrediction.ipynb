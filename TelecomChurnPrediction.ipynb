{
 "cells": [
  {
   "cell_type": "markdown",
   "id": "04374be8-d3ab-4663-bd4a-276352af36ea",
   "metadata": {
    "colab_type": "text",
    "id": "NWvRwRdGoK5Y",
    "jp-MarkdownHeadingCollapsed": true,
    "tags": []
   },
   "source": [
    "---\n",
    "# **Table of Contents**\n",
    "---\n",
    "\n",
    "1. [**Introduction**](#Section1)<br>\n",
    "2. [**Problem Statement**](#Section2)<br>\n",
    "3. [**Installing & Importing Libraries**](#Section3)<br>\n",
    "4. [**Data Gathering, Description and Pre-processing**](#Section4)<br>\n",
    "5. [**Exploratory Data Analysis**](#Section5)<br>\n",
    "6. [**Model Preparation - RandomForestClassifier**](#Section6)</br>\n",
    "7. [**Actionable Insights**](#Section7)</br>"
   ]
  },
  {
   "cell_type": "markdown",
   "id": "5347426c-43a8-4c7d-a95a-bcff3bfa0bfb",
   "metadata": {
    "colab_type": "text",
    "id": "iACv_4iIoaLi",
    "tags": []
   },
   "source": [
    "---\n",
    "<a name = Section1></a>\n",
    "# **1. Introduction**\n",
    "---\n",
    "\n",
    "\n",
    "### WeConnect is a Telecom Service Provider ###\n",
    "\n",
    "\n",
    "- The company has started facing high churn rate due to rapid development in technology and the emerging new competitors in the market.\n",
    "- The objective is to use the model to take further actions for preventing customers to churn.\n",
    "- They will have to offer something to their customers so they stick around, example - a promo, discount, loyalty program etc.\n",
    "\n",
    "### Current Scenario ###\n",
    "\n",
    "- Till now they have been using traditional ways which now have become a problem to handle due to human interventions.\n",
    "- They have a detailed history of their customers and are looking for an automated solution to identify the likeliness of customer churning from using their services.\n"
   ]
  },
  {
   "cell_type": "markdown",
   "id": "918c9a31-1852-4679-9f62-86e2bf2a91bc",
   "metadata": {
    "colab_type": "text",
    "id": "sOGJAM3AoePy"
   },
   "source": [
    "---\n",
    "<a name = Section2></a>\n",
    "# **2. Problem Statement**\n",
    "---\n",
    "\n",
    "\n",
    "- Due to the boom in the telecom industry with 4G technology, it has become a pain in the neck for the company to retain their customers.\n",
    "- They are in the middle of setting up more cell sites on the 4G network to improve their 4G services.\n",
    "- It is plausible for customers to choose 4G services over 3G services due to benefits of cost, speed, latency etc.\n",
    "\n",
    "## Project Deliverables ##\n",
    "- Deliverable: Predict whether a customer will churn or not..\n",
    "- Machine Learning Task: Classification\n",
    "- Target Variable: Churn (Yes / No)\n",
    "\n",
    "## Evaluation Metric ##\n",
    " - The model evaluation will be based on the Accuracy Score.\n"
   ]
  },
  {
   "cell_type": "markdown",
   "id": "b9bd0049-4ea2-4004-9ace-9efa94cfc495",
   "metadata": {
    "tags": []
   },
   "source": [
    "---\n",
    "<a name = Section3></a>\n",
    "# **3. Installing and importing Libraries**\n",
    "---"
   ]
  },
  {
   "cell_type": "code",
   "execution_count": 217,
   "id": "3279260b-f35c-4af6-a6f0-c9dc51bace29",
   "metadata": {
    "tags": []
   },
   "outputs": [],
   "source": [
    "#importing necessary libraries\n",
    "#------------------------------------------------------------------------------------------------------------------------------\n",
    "import pandas as pd                                                 # Importing for panel data analysis\n",
    "from pandas_profiling import ProfileReport                          # Import Pandas Profiling (To generate Univariate Analysis)\n",
    "pd.set_option('display.max_columns', None)                          # Unfolding hidden features if the cardinality is high\n",
    "pd.set_option('display.max_rows', None)                             # Unfolding hidden data points if the cardinality is high\n",
    "pd.set_option('mode.chained_assignment', None)                      # Removing restriction over chained assignments operations\n",
    "#-------------------------------------------------------------------------------------------------------------------------------\n",
    "import numpy as np                                                  # Importing package numpys (For Numerical Python)\n",
    "from scipy.stats import randint as sp_randint                       # For initializing random integer values\n",
    "#-------------------------------------------------------------------------------------------------------------------------------\n",
    "import matplotlib.pyplot as plt                                     # Importing pyplot interface using matplotlib\n",
    "import seaborn as sns                                               # Importin seaborm library for interactive visualization\n",
    "%matplotlib inline\n",
    "#-------------------------------------------------------------------------------------------------------------------------------\n",
    "from sklearn.preprocessing import StandardScaler                    # To scaled data with mean 0 and variance 1\n",
    "from sklearn.model_selection import train_test_split                # To split the data in training and testing part\n",
    "from sklearn.model_selection import RandomizedSearchCV              # To find best hyperparamter setting for the algorithm\n",
    "from sklearn.ensemble import RandomForestClassifier                 # To implement random forest classifier\n",
    "from sklearn.tree import DecisionTreeClassifier                     # To implement decision tree classifier\n",
    "from sklearn.metrics import classification_report                   # To generate classification report\n",
    "from sklearn.metrics import accuracy_score\n",
    "from sklearn.metrics import plot_confusion_matrix                   # To plot confusion matrix\n",
    "#import pydotplus                                                    # To generate pydot file\n",
    "from IPython.display import Image                                   # To generate image using pydot file\n",
    "#-------------------------------------------------------------------------------------------------------------------------------\n",
    "import warnings                                                     # Importing warning to disable runtime warnings\n",
    "warnings.filterwarnings(\"ignore\")"
   ]
  },
  {
   "cell_type": "markdown",
   "id": "e624c015-3f02-481c-8b8b-d155468b0aed",
   "metadata": {},
   "source": [
    "---\n",
    "<a name = Section4></a>\n",
    "# **4. Data Gathering, Description and Pre-processing**\n",
    "---"
   ]
  },
  {
   "cell_type": "code",
   "execution_count": 403,
   "id": "3d7ae8ca-0814-45b8-8a1f-7908ea8b8e19",
   "metadata": {},
   "outputs": [
    {
     "name": "stdout",
     "output_type": "stream",
     "text": [
      "Shape of the train dataset: (5634, 21)\n",
      "Shape of the test dataset: (1409, 20)\n"
     ]
    }
   ],
   "source": [
    "# Load the data\n",
    "churnTrain = pd.read_csv(filepath_or_buffer='./churnTrain.csv')\n",
    "churnTest = pd.read_csv(filepath_or_buffer='./churnTest.csv')\n",
    "\n",
    "# Get the dimensions of data\n",
    "print('Shape of the train dataset:',churnTrain.shape)\n",
    "print('Shape of the test dataset:',churnTest.shape)"
   ]
  },
  {
   "cell_type": "code",
   "execution_count": 404,
   "id": "e8fd2004-76d1-4766-aaf5-7975b0c6d0b6",
   "metadata": {},
   "outputs": [
    {
     "data": {
      "text/html": [
       "<div>\n",
       "<style scoped>\n",
       "    .dataframe tbody tr th:only-of-type {\n",
       "        vertical-align: middle;\n",
       "    }\n",
       "\n",
       "    .dataframe tbody tr th {\n",
       "        vertical-align: top;\n",
       "    }\n",
       "\n",
       "    .dataframe thead th {\n",
       "        text-align: right;\n",
       "    }\n",
       "</style>\n",
       "<table border=\"1\" class=\"dataframe\">\n",
       "  <thead>\n",
       "    <tr style=\"text-align: right;\">\n",
       "      <th></th>\n",
       "      <th>customerID</th>\n",
       "      <th>gender</th>\n",
       "      <th>SeniorCitizen</th>\n",
       "      <th>Partner</th>\n",
       "      <th>Dependents</th>\n",
       "      <th>tenure</th>\n",
       "      <th>PhoneService</th>\n",
       "      <th>MultipleLines</th>\n",
       "      <th>InternetService</th>\n",
       "      <th>OnlineSecurity</th>\n",
       "      <th>OnlineBackup</th>\n",
       "      <th>DeviceProtection</th>\n",
       "      <th>TechSupport</th>\n",
       "      <th>StreamingTV</th>\n",
       "      <th>StreamingMovies</th>\n",
       "      <th>Contract</th>\n",
       "      <th>PaperlessBilling</th>\n",
       "      <th>PaymentMethod</th>\n",
       "      <th>MonthlyCharges</th>\n",
       "      <th>TotalCharges</th>\n",
       "      <th>Churn</th>\n",
       "    </tr>\n",
       "  </thead>\n",
       "  <tbody>\n",
       "    <tr>\n",
       "      <th>0</th>\n",
       "      <td>5442-PPTJY</td>\n",
       "      <td>Male</td>\n",
       "      <td>0</td>\n",
       "      <td>Yes</td>\n",
       "      <td>Yes</td>\n",
       "      <td>12</td>\n",
       "      <td>Yes</td>\n",
       "      <td>No</td>\n",
       "      <td>No</td>\n",
       "      <td>No internet service</td>\n",
       "      <td>No internet service</td>\n",
       "      <td>No internet service</td>\n",
       "      <td>No internet service</td>\n",
       "      <td>No internet service</td>\n",
       "      <td>No internet service</td>\n",
       "      <td>Two year</td>\n",
       "      <td>No</td>\n",
       "      <td>Mailed check</td>\n",
       "      <td>19.70</td>\n",
       "      <td>258.35</td>\n",
       "      <td>No</td>\n",
       "    </tr>\n",
       "    <tr>\n",
       "      <th>1</th>\n",
       "      <td>6261-RCVNS</td>\n",
       "      <td>Female</td>\n",
       "      <td>0</td>\n",
       "      <td>No</td>\n",
       "      <td>No</td>\n",
       "      <td>42</td>\n",
       "      <td>Yes</td>\n",
       "      <td>No</td>\n",
       "      <td>DSL</td>\n",
       "      <td>Yes</td>\n",
       "      <td>Yes</td>\n",
       "      <td>Yes</td>\n",
       "      <td>Yes</td>\n",
       "      <td>No</td>\n",
       "      <td>Yes</td>\n",
       "      <td>One year</td>\n",
       "      <td>No</td>\n",
       "      <td>Credit card (automatic)</td>\n",
       "      <td>73.90</td>\n",
       "      <td>3160.55</td>\n",
       "      <td>Yes</td>\n",
       "    </tr>\n",
       "    <tr>\n",
       "      <th>2</th>\n",
       "      <td>2176-OSJUV</td>\n",
       "      <td>Male</td>\n",
       "      <td>0</td>\n",
       "      <td>Yes</td>\n",
       "      <td>No</td>\n",
       "      <td>71</td>\n",
       "      <td>Yes</td>\n",
       "      <td>Yes</td>\n",
       "      <td>DSL</td>\n",
       "      <td>Yes</td>\n",
       "      <td>Yes</td>\n",
       "      <td>No</td>\n",
       "      <td>Yes</td>\n",
       "      <td>No</td>\n",
       "      <td>No</td>\n",
       "      <td>Two year</td>\n",
       "      <td>No</td>\n",
       "      <td>Bank transfer (automatic)</td>\n",
       "      <td>65.15</td>\n",
       "      <td>4681.75</td>\n",
       "      <td>No</td>\n",
       "    </tr>\n",
       "    <tr>\n",
       "      <th>3</th>\n",
       "      <td>6161-ERDGD</td>\n",
       "      <td>Male</td>\n",
       "      <td>0</td>\n",
       "      <td>Yes</td>\n",
       "      <td>Yes</td>\n",
       "      <td>71</td>\n",
       "      <td>Yes</td>\n",
       "      <td>Yes</td>\n",
       "      <td>DSL</td>\n",
       "      <td>Yes</td>\n",
       "      <td>No</td>\n",
       "      <td>Yes</td>\n",
       "      <td>Yes</td>\n",
       "      <td>Yes</td>\n",
       "      <td>Yes</td>\n",
       "      <td>One year</td>\n",
       "      <td>No</td>\n",
       "      <td>Electronic check</td>\n",
       "      <td>85.45</td>\n",
       "      <td>6300.85</td>\n",
       "      <td>No</td>\n",
       "    </tr>\n",
       "    <tr>\n",
       "      <th>4</th>\n",
       "      <td>2364-UFROM</td>\n",
       "      <td>Male</td>\n",
       "      <td>0</td>\n",
       "      <td>No</td>\n",
       "      <td>No</td>\n",
       "      <td>30</td>\n",
       "      <td>Yes</td>\n",
       "      <td>No</td>\n",
       "      <td>DSL</td>\n",
       "      <td>Yes</td>\n",
       "      <td>Yes</td>\n",
       "      <td>No</td>\n",
       "      <td>Yes</td>\n",
       "      <td>Yes</td>\n",
       "      <td>No</td>\n",
       "      <td>One year</td>\n",
       "      <td>No</td>\n",
       "      <td>Electronic check</td>\n",
       "      <td>70.40</td>\n",
       "      <td>2044.75</td>\n",
       "      <td>No</td>\n",
       "    </tr>\n",
       "  </tbody>\n",
       "</table>\n",
       "</div>"
      ],
      "text/plain": [
       "   customerID  gender  SeniorCitizen Partner Dependents  tenure PhoneService  \\\n",
       "0  5442-PPTJY    Male              0     Yes        Yes      12          Yes   \n",
       "1  6261-RCVNS  Female              0      No         No      42          Yes   \n",
       "2  2176-OSJUV    Male              0     Yes         No      71          Yes   \n",
       "3  6161-ERDGD    Male              0     Yes        Yes      71          Yes   \n",
       "4  2364-UFROM    Male              0      No         No      30          Yes   \n",
       "\n",
       "  MultipleLines InternetService       OnlineSecurity         OnlineBackup  \\\n",
       "0            No              No  No internet service  No internet service   \n",
       "1            No             DSL                  Yes                  Yes   \n",
       "2           Yes             DSL                  Yes                  Yes   \n",
       "3           Yes             DSL                  Yes                   No   \n",
       "4            No             DSL                  Yes                  Yes   \n",
       "\n",
       "      DeviceProtection          TechSupport          StreamingTV  \\\n",
       "0  No internet service  No internet service  No internet service   \n",
       "1                  Yes                  Yes                   No   \n",
       "2                   No                  Yes                   No   \n",
       "3                  Yes                  Yes                  Yes   \n",
       "4                   No                  Yes                  Yes   \n",
       "\n",
       "       StreamingMovies  Contract PaperlessBilling              PaymentMethod  \\\n",
       "0  No internet service  Two year               No               Mailed check   \n",
       "1                  Yes  One year               No    Credit card (automatic)   \n",
       "2                   No  Two year               No  Bank transfer (automatic)   \n",
       "3                  Yes  One year               No           Electronic check   \n",
       "4                   No  One year               No           Electronic check   \n",
       "\n",
       "   MonthlyCharges TotalCharges Churn  \n",
       "0           19.70       258.35    No  \n",
       "1           73.90      3160.55   Yes  \n",
       "2           65.15      4681.75    No  \n",
       "3           85.45      6300.85    No  \n",
       "4           70.40      2044.75    No  "
      ]
     },
     "execution_count": 404,
     "metadata": {},
     "output_type": "execute_result"
    }
   ],
   "source": [
    "churnTrain.head()"
   ]
  },
  {
   "cell_type": "code",
   "execution_count": 405,
   "id": "1dd4b844-bfef-4137-aaf1-5e236bb44f93",
   "metadata": {
    "tags": []
   },
   "outputs": [
    {
     "name": "stdout",
     "output_type": "stream",
     "text": [
      "<class 'pandas.core.frame.DataFrame'>\n",
      "RangeIndex: 5634 entries, 0 to 5633\n",
      "Data columns (total 21 columns):\n",
      " #   Column            Non-Null Count  Dtype  \n",
      "---  ------            --------------  -----  \n",
      " 0   customerID        5634 non-null   object \n",
      " 1   gender            5634 non-null   object \n",
      " 2   SeniorCitizen     5634 non-null   int64  \n",
      " 3   Partner           5634 non-null   object \n",
      " 4   Dependents        5634 non-null   object \n",
      " 5   tenure            5634 non-null   int64  \n",
      " 6   PhoneService      5634 non-null   object \n",
      " 7   MultipleLines     5634 non-null   object \n",
      " 8   InternetService   5634 non-null   object \n",
      " 9   OnlineSecurity    5634 non-null   object \n",
      " 10  OnlineBackup      5634 non-null   object \n",
      " 11  DeviceProtection  5634 non-null   object \n",
      " 12  TechSupport       5634 non-null   object \n",
      " 13  StreamingTV       5634 non-null   object \n",
      " 14  StreamingMovies   5634 non-null   object \n",
      " 15  Contract          5634 non-null   object \n",
      " 16  PaperlessBilling  5634 non-null   object \n",
      " 17  PaymentMethod     5634 non-null   object \n",
      " 18  MonthlyCharges    5634 non-null   float64\n",
      " 19  TotalCharges      5634 non-null   object \n",
      " 20  Churn             5634 non-null   object \n",
      "dtypes: float64(1), int64(2), object(18)\n",
      "memory usage: 924.5+ KB\n"
     ]
    }
   ],
   "source": [
    "churnTrain.info()"
   ]
  },
  {
   "cell_type": "code",
   "execution_count": 406,
   "id": "b839cd4f-80e6-4b78-b045-bab489df17e0",
   "metadata": {
    "tags": []
   },
   "outputs": [
    {
     "data": {
      "text/html": [
       "<div>\n",
       "<style scoped>\n",
       "    .dataframe tbody tr th:only-of-type {\n",
       "        vertical-align: middle;\n",
       "    }\n",
       "\n",
       "    .dataframe tbody tr th {\n",
       "        vertical-align: top;\n",
       "    }\n",
       "\n",
       "    .dataframe thead th {\n",
       "        text-align: right;\n",
       "    }\n",
       "</style>\n",
       "<table border=\"1\" class=\"dataframe\">\n",
       "  <thead>\n",
       "    <tr style=\"text-align: right;\">\n",
       "      <th></th>\n",
       "      <th>SeniorCitizen</th>\n",
       "      <th>tenure</th>\n",
       "      <th>MonthlyCharges</th>\n",
       "    </tr>\n",
       "  </thead>\n",
       "  <tbody>\n",
       "    <tr>\n",
       "      <th>count</th>\n",
       "      <td>5634.000000</td>\n",
       "      <td>5634.000000</td>\n",
       "      <td>5634.000000</td>\n",
       "    </tr>\n",
       "    <tr>\n",
       "      <th>mean</th>\n",
       "      <td>0.161874</td>\n",
       "      <td>32.277955</td>\n",
       "      <td>64.779127</td>\n",
       "    </tr>\n",
       "    <tr>\n",
       "      <th>std</th>\n",
       "      <td>0.368368</td>\n",
       "      <td>24.555211</td>\n",
       "      <td>30.104993</td>\n",
       "    </tr>\n",
       "    <tr>\n",
       "      <th>min</th>\n",
       "      <td>0.000000</td>\n",
       "      <td>0.000000</td>\n",
       "      <td>18.250000</td>\n",
       "    </tr>\n",
       "    <tr>\n",
       "      <th>25%</th>\n",
       "      <td>0.000000</td>\n",
       "      <td>9.000000</td>\n",
       "      <td>35.400000</td>\n",
       "    </tr>\n",
       "    <tr>\n",
       "      <th>50%</th>\n",
       "      <td>0.000000</td>\n",
       "      <td>29.000000</td>\n",
       "      <td>70.375000</td>\n",
       "    </tr>\n",
       "    <tr>\n",
       "      <th>75%</th>\n",
       "      <td>0.000000</td>\n",
       "      <td>55.000000</td>\n",
       "      <td>89.850000</td>\n",
       "    </tr>\n",
       "    <tr>\n",
       "      <th>max</th>\n",
       "      <td>1.000000</td>\n",
       "      <td>72.000000</td>\n",
       "      <td>118.650000</td>\n",
       "    </tr>\n",
       "  </tbody>\n",
       "</table>\n",
       "</div>"
      ],
      "text/plain": [
       "       SeniorCitizen       tenure  MonthlyCharges\n",
       "count    5634.000000  5634.000000     5634.000000\n",
       "mean        0.161874    32.277955       64.779127\n",
       "std         0.368368    24.555211       30.104993\n",
       "min         0.000000     0.000000       18.250000\n",
       "25%         0.000000     9.000000       35.400000\n",
       "50%         0.000000    29.000000       70.375000\n",
       "75%         0.000000    55.000000       89.850000\n",
       "max         1.000000    72.000000      118.650000"
      ]
     },
     "execution_count": 406,
     "metadata": {},
     "output_type": "execute_result"
    }
   ],
   "source": [
    "churnTrain.describe()"
   ]
  },
  {
   "cell_type": "code",
   "execution_count": 407,
   "id": "36d0e31a-763a-4c89-8f7e-cd2161f2be8c",
   "metadata": {},
   "outputs": [
    {
     "data": {
      "text/plain": [
       "customerID          0\n",
       "gender              0\n",
       "SeniorCitizen       0\n",
       "Partner             0\n",
       "Dependents          0\n",
       "tenure              0\n",
       "PhoneService        0\n",
       "MultipleLines       0\n",
       "InternetService     0\n",
       "OnlineSecurity      0\n",
       "OnlineBackup        0\n",
       "DeviceProtection    0\n",
       "TechSupport         0\n",
       "StreamingTV         0\n",
       "StreamingMovies     0\n",
       "Contract            0\n",
       "PaperlessBilling    0\n",
       "PaymentMethod       0\n",
       "MonthlyCharges      0\n",
       "TotalCharges        0\n",
       "Churn               0\n",
       "dtype: int64"
      ]
     },
     "execution_count": 407,
     "metadata": {},
     "output_type": "execute_result"
    }
   ],
   "source": [
    "churnTrain.isnull().sum()"
   ]
  },
  {
   "cell_type": "code",
   "execution_count": 408,
   "id": "db6d1fe7-1d27-4efc-9f51-b1e07aeb8a83",
   "metadata": {},
   "outputs": [
    {
     "data": {
      "text/plain": [
       "SeniorCitizen     1.836455\n",
       "tenure            0.243081\n",
       "MonthlyCharges   -0.223487\n",
       "dtype: float64"
      ]
     },
     "execution_count": 408,
     "metadata": {},
     "output_type": "execute_result"
    }
   ],
   "source": [
    "churnTrain.skew()"
   ]
  },
  {
   "cell_type": "code",
   "execution_count": 409,
   "id": "23b0ce59-7ed8-4175-8cba-837b299c6d8b",
   "metadata": {},
   "outputs": [
    {
     "data": {
      "text/plain": [
       "customerID          5634\n",
       "gender                 2\n",
       "SeniorCitizen          2\n",
       "Partner                2\n",
       "Dependents             2\n",
       "tenure                73\n",
       "PhoneService           2\n",
       "MultipleLines          3\n",
       "InternetService        3\n",
       "OnlineSecurity         3\n",
       "OnlineBackup           3\n",
       "DeviceProtection       3\n",
       "TechSupport            3\n",
       "StreamingTV            3\n",
       "StreamingMovies        3\n",
       "Contract               3\n",
       "PaperlessBilling       2\n",
       "PaymentMethod          4\n",
       "MonthlyCharges      1494\n",
       "TotalCharges        5291\n",
       "Churn                  2\n",
       "dtype: int64"
      ]
     },
     "execution_count": 409,
     "metadata": {},
     "output_type": "execute_result"
    }
   ],
   "source": [
    "churnTrain.nunique()"
   ]
  },
  {
   "cell_type": "code",
   "execution_count": 410,
   "id": "7c2e9bc2-c651-4a3f-a077-2bea9b859dc9",
   "metadata": {},
   "outputs": [],
   "source": [
    "churnTrain.drop(\"customerID\", axis=1, inplace=True)"
   ]
  },
  {
   "cell_type": "code",
   "execution_count": 411,
   "id": "c6849b7d-f03f-4829-9d2b-f78f755487eb",
   "metadata": {},
   "outputs": [
    {
     "data": {
      "text/plain": [
       "(5634, 20)"
      ]
     },
     "execution_count": 411,
     "metadata": {},
     "output_type": "execute_result"
    }
   ],
   "source": [
    "churnTrain.shape"
   ]
  },
  {
   "cell_type": "code",
   "execution_count": 412,
   "id": "d625646f-eea8-4729-93e8-c1f1a5af1975",
   "metadata": {},
   "outputs": [
    {
     "name": "stdout",
     "output_type": "stream",
     "text": [
      "Before dealing with blank values\n",
      "Int64Index([899, 2224, 2697, 3054, 3488, 4056, 4761, 5607], dtype='int64')\n"
     ]
    }
   ],
   "source": [
    "print(\"Before dealing with blank values\")\n",
    "print(churnTrain[churnTrain['TotalCharges'] == ' '].index) "
   ]
  },
  {
   "cell_type": "code",
   "execution_count": 413,
   "id": "ce874e2d-b28f-4306-8ede-b912b3491d7a",
   "metadata": {},
   "outputs": [],
   "source": [
    "churnTrain['TotalCharges']= churnTrain['TotalCharges'].apply(lambda x: x if x!= ' ' else np.nan).astype(float)"
   ]
  },
  {
   "cell_type": "code",
   "execution_count": 414,
   "id": "cd23902b-94f1-425e-997d-7766941f2ffb",
   "metadata": {},
   "outputs": [],
   "source": [
    "churnTrain['Churn']= churnTrain['Churn'].apply(lambda x: 0 if x==\"No\" else 1).astype(float)"
   ]
  },
  {
   "cell_type": "code",
   "execution_count": 415,
   "id": "a78cd050-5ea2-43f4-939d-f0646d08ad18",
   "metadata": {},
   "outputs": [],
   "source": [
    "churnTrain['SeniorCitizen']= churnTrain['SeniorCitizen'].astype(float)\n",
    "churnTrain['tenure']= churnTrain['tenure'].astype(float)"
   ]
  },
  {
   "cell_type": "code",
   "execution_count": 416,
   "id": "a8fbd145-821d-4bd0-b9e4-05a0043d16b9",
   "metadata": {
    "tags": []
   },
   "outputs": [],
   "source": [
    "numerical= churnTrain.drop(['Churn'], axis=1).select_dtypes('number').columns\n",
    "\n",
    "categorical = churnTrain.select_dtypes('object').columns"
   ]
  },
  {
   "cell_type": "code",
   "execution_count": 417,
   "id": "c625659c-4268-4882-9597-82af0962cc79",
   "metadata": {},
   "outputs": [
    {
     "name": "stdout",
     "output_type": "stream",
     "text": [
      "Numerical:  Index(['SeniorCitizen', 'tenure', 'MonthlyCharges', 'TotalCharges'], dtype='object')\n",
      "Categorical  Index(['gender', 'Partner', 'Dependents', 'PhoneService', 'MultipleLines',\n",
      "       'InternetService', 'OnlineSecurity', 'OnlineBackup', 'DeviceProtection',\n",
      "       'TechSupport', 'StreamingTV', 'StreamingMovies', 'Contract',\n",
      "       'PaperlessBilling', 'PaymentMethod'],\n",
      "      dtype='object')\n"
     ]
    }
   ],
   "source": [
    "print(\"Numerical: \",numerical)\n",
    "print(\"Categorical \",categorical)"
   ]
  },
  {
   "cell_type": "code",
   "execution_count": 68,
   "id": "92f98d17-ac0b-4881-8389-d4bcf9d1c67e",
   "metadata": {},
   "outputs": [],
   "source": [
    "# from sklearn.preprocessing import LabelEncoder\n",
    "\n",
    "# le = LabelEncoder()\n",
    "# churnTrain['ChurnEncoded'] = le.fit_transform(churnTrain['Churn'])"
   ]
  },
  {
   "cell_type": "code",
   "execution_count": 418,
   "id": "6a614128-784d-4144-b133-edc4de1fb748",
   "metadata": {},
   "outputs": [
    {
     "data": {
      "image/png": "[encoded data removed]",
      "text/plain": [
       "<Figure size 432x432 with 1 Axes>"
      ]
     },
     "metadata": {
      "needs_background": "light"
     },
     "output_type": "display_data"
    }
   ],
   "source": [
    "fig, ax = plt.subplots(figsize=(6, 6))\n",
    "\n",
    "sns.countplot(x='Churn', data=churnTrain, ax=ax)\n",
    "\n",
    "for index, value in enumerate(churnTrain['Churn'].value_counts()):\n",
    "    label = '{}%'.format(round((value / churnTrain['Churn'].shape[0]) * 100, 2))\n",
    "    ax.annotate(label,\n",
    "                xy=(index, value + 250),\n",
    "                ha='center',\n",
    "                va='center',\n",
    "                fontweight='bold',\n",
    "                size=12)\n",
    "\n",
    "ax.set_xticklabels(['Yes', 'No'])\n",
    "ax.set_xlabel('Status')\n",
    "ax.set_ylabel('Count')\n",
    "ax.set_ylim([0, 7000]);"
   ]
  },
  {
   "cell_type": "code",
   "execution_count": 419,
   "id": "87a48ca7-80f7-422d-849a-050e9d723eb7",
   "metadata": {},
   "outputs": [
    {
     "data": {
      "text/html": [
       "<div>\n",
       "<style scoped>\n",
       "    .dataframe tbody tr th:only-of-type {\n",
       "        vertical-align: middle;\n",
       "    }\n",
       "\n",
       "    .dataframe tbody tr th {\n",
       "        vertical-align: top;\n",
       "    }\n",
       "\n",
       "    .dataframe thead th {\n",
       "        text-align: right;\n",
       "    }\n",
       "</style>\n",
       "<table border=\"1\" class=\"dataframe\">\n",
       "  <thead>\n",
       "    <tr style=\"text-align: right;\">\n",
       "      <th></th>\n",
       "      <th>SeniorCitizen</th>\n",
       "      <th>tenure</th>\n",
       "      <th>MonthlyCharges</th>\n",
       "      <th>TotalCharges</th>\n",
       "    </tr>\n",
       "  </thead>\n",
       "  <tbody>\n",
       "    <tr>\n",
       "      <th>0</th>\n",
       "      <td>0.0</td>\n",
       "      <td>12.0</td>\n",
       "      <td>19.70</td>\n",
       "      <td>258.35</td>\n",
       "    </tr>\n",
       "    <tr>\n",
       "      <th>1</th>\n",
       "      <td>0.0</td>\n",
       "      <td>42.0</td>\n",
       "      <td>73.90</td>\n",
       "      <td>3160.55</td>\n",
       "    </tr>\n",
       "    <tr>\n",
       "      <th>2</th>\n",
       "      <td>0.0</td>\n",
       "      <td>71.0</td>\n",
       "      <td>65.15</td>\n",
       "      <td>4681.75</td>\n",
       "    </tr>\n",
       "    <tr>\n",
       "      <th>3</th>\n",
       "      <td>0.0</td>\n",
       "      <td>71.0</td>\n",
       "      <td>85.45</td>\n",
       "      <td>6300.85</td>\n",
       "    </tr>\n",
       "    <tr>\n",
       "      <th>4</th>\n",
       "      <td>0.0</td>\n",
       "      <td>30.0</td>\n",
       "      <td>70.40</td>\n",
       "      <td>2044.75</td>\n",
       "    </tr>\n",
       "  </tbody>\n",
       "</table>\n",
       "</div>"
      ],
      "text/plain": [
       "   SeniorCitizen  tenure  MonthlyCharges  TotalCharges\n",
       "0            0.0    12.0           19.70        258.35\n",
       "1            0.0    42.0           73.90       3160.55\n",
       "2            0.0    71.0           65.15       4681.75\n",
       "3            0.0    71.0           85.45       6300.85\n",
       "4            0.0    30.0           70.40       2044.75"
      ]
     },
     "execution_count": 419,
     "metadata": {},
     "output_type": "execute_result"
    }
   ],
   "source": [
    "churnTrain[numerical].head()"
   ]
  },
  {
   "cell_type": "code",
   "execution_count": 420,
   "id": "193699e4-4951-416a-bcc9-566db0e06522",
   "metadata": {},
   "outputs": [
    {
     "data": {
      "text/html": [
       "<div>\n",
       "<style scoped>\n",
       "    .dataframe tbody tr th:only-of-type {\n",
       "        vertical-align: middle;\n",
       "    }\n",
       "\n",
       "    .dataframe tbody tr th {\n",
       "        vertical-align: top;\n",
       "    }\n",
       "\n",
       "    .dataframe thead th {\n",
       "        text-align: right;\n",
       "    }\n",
       "</style>\n",
       "<table border=\"1\" class=\"dataframe\">\n",
       "  <thead>\n",
       "    <tr style=\"text-align: right;\">\n",
       "      <th></th>\n",
       "      <th>gender</th>\n",
       "      <th>Partner</th>\n",
       "      <th>Dependents</th>\n",
       "      <th>PhoneService</th>\n",
       "      <th>MultipleLines</th>\n",
       "      <th>InternetService</th>\n",
       "      <th>OnlineSecurity</th>\n",
       "      <th>OnlineBackup</th>\n",
       "      <th>DeviceProtection</th>\n",
       "      <th>TechSupport</th>\n",
       "      <th>StreamingTV</th>\n",
       "      <th>StreamingMovies</th>\n",
       "      <th>Contract</th>\n",
       "      <th>PaperlessBilling</th>\n",
       "      <th>PaymentMethod</th>\n",
       "    </tr>\n",
       "  </thead>\n",
       "  <tbody>\n",
       "    <tr>\n",
       "      <th>0</th>\n",
       "      <td>Male</td>\n",
       "      <td>Yes</td>\n",
       "      <td>Yes</td>\n",
       "      <td>Yes</td>\n",
       "      <td>No</td>\n",
       "      <td>No</td>\n",
       "      <td>No internet service</td>\n",
       "      <td>No internet service</td>\n",
       "      <td>No internet service</td>\n",
       "      <td>No internet service</td>\n",
       "      <td>No internet service</td>\n",
       "      <td>No internet service</td>\n",
       "      <td>Two year</td>\n",
       "      <td>No</td>\n",
       "      <td>Mailed check</td>\n",
       "    </tr>\n",
       "    <tr>\n",
       "      <th>1</th>\n",
       "      <td>Female</td>\n",
       "      <td>No</td>\n",
       "      <td>No</td>\n",
       "      <td>Yes</td>\n",
       "      <td>No</td>\n",
       "      <td>DSL</td>\n",
       "      <td>Yes</td>\n",
       "      <td>Yes</td>\n",
       "      <td>Yes</td>\n",
       "      <td>Yes</td>\n",
       "      <td>No</td>\n",
       "      <td>Yes</td>\n",
       "      <td>One year</td>\n",
       "      <td>No</td>\n",
       "      <td>Credit card (automatic)</td>\n",
       "    </tr>\n",
       "    <tr>\n",
       "      <th>2</th>\n",
       "      <td>Male</td>\n",
       "      <td>Yes</td>\n",
       "      <td>No</td>\n",
       "      <td>Yes</td>\n",
       "      <td>Yes</td>\n",
       "      <td>DSL</td>\n",
       "      <td>Yes</td>\n",
       "      <td>Yes</td>\n",
       "      <td>No</td>\n",
       "      <td>Yes</td>\n",
       "      <td>No</td>\n",
       "      <td>No</td>\n",
       "      <td>Two year</td>\n",
       "      <td>No</td>\n",
       "      <td>Bank transfer (automatic)</td>\n",
       "    </tr>\n",
       "    <tr>\n",
       "      <th>3</th>\n",
       "      <td>Male</td>\n",
       "      <td>Yes</td>\n",
       "      <td>Yes</td>\n",
       "      <td>Yes</td>\n",
       "      <td>Yes</td>\n",
       "      <td>DSL</td>\n",
       "      <td>Yes</td>\n",
       "      <td>No</td>\n",
       "      <td>Yes</td>\n",
       "      <td>Yes</td>\n",
       "      <td>Yes</td>\n",
       "      <td>Yes</td>\n",
       "      <td>One year</td>\n",
       "      <td>No</td>\n",
       "      <td>Electronic check</td>\n",
       "    </tr>\n",
       "    <tr>\n",
       "      <th>4</th>\n",
       "      <td>Male</td>\n",
       "      <td>No</td>\n",
       "      <td>No</td>\n",
       "      <td>Yes</td>\n",
       "      <td>No</td>\n",
       "      <td>DSL</td>\n",
       "      <td>Yes</td>\n",
       "      <td>Yes</td>\n",
       "      <td>No</td>\n",
       "      <td>Yes</td>\n",
       "      <td>Yes</td>\n",
       "      <td>No</td>\n",
       "      <td>One year</td>\n",
       "      <td>No</td>\n",
       "      <td>Electronic check</td>\n",
       "    </tr>\n",
       "  </tbody>\n",
       "</table>\n",
       "</div>"
      ],
      "text/plain": [
       "   gender Partner Dependents PhoneService MultipleLines InternetService  \\\n",
       "0    Male     Yes        Yes          Yes            No              No   \n",
       "1  Female      No         No          Yes            No             DSL   \n",
       "2    Male     Yes         No          Yes           Yes             DSL   \n",
       "3    Male     Yes        Yes          Yes           Yes             DSL   \n",
       "4    Male      No         No          Yes            No             DSL   \n",
       "\n",
       "        OnlineSecurity         OnlineBackup     DeviceProtection  \\\n",
       "0  No internet service  No internet service  No internet service   \n",
       "1                  Yes                  Yes                  Yes   \n",
       "2                  Yes                  Yes                   No   \n",
       "3                  Yes                   No                  Yes   \n",
       "4                  Yes                  Yes                   No   \n",
       "\n",
       "           TechSupport          StreamingTV      StreamingMovies  Contract  \\\n",
       "0  No internet service  No internet service  No internet service  Two year   \n",
       "1                  Yes                   No                  Yes  One year   \n",
       "2                  Yes                   No                   No  Two year   \n",
       "3                  Yes                  Yes                  Yes  One year   \n",
       "4                  Yes                  Yes                   No  One year   \n",
       "\n",
       "  PaperlessBilling              PaymentMethod  \n",
       "0               No               Mailed check  \n",
       "1               No    Credit card (automatic)  \n",
       "2               No  Bank transfer (automatic)  \n",
       "3               No           Electronic check  \n",
       "4               No           Electronic check  "
      ]
     },
     "execution_count": 420,
     "metadata": {},
     "output_type": "execute_result"
    }
   ],
   "source": [
    "churnTrain[categorical].head()"
   ]
  },
  {
   "cell_type": "code",
   "execution_count": 421,
   "id": "aac060a2-f488-4620-8513-9fee96cc79f1",
   "metadata": {},
   "outputs": [],
   "source": [
    "churnTrain[\"MultipleLines\"]= churnTrain[\"MultipleLines\"].replace(\"No phone service\", \"No\")"
   ]
  },
  {
   "cell_type": "code",
   "execution_count": 422,
   "id": "258c8734-fb7f-40e5-bd1e-225bee8c29c2",
   "metadata": {},
   "outputs": [],
   "source": [
    "churnTrain[[\"OnlineSecurity\", \"OnlineBackup\", \"DeviceProtection\", \"TechSupport\", \"StreamingTV\", \"StreamingMovies\"]] =churnTrain[[\"OnlineSecurity\", \"OnlineBackup\", \"DeviceProtection\", \"TechSupport\", \"StreamingTV\", \"StreamingMovies\"]].replace(\"No internet service\", \"No\")"
   ]
  },
  {
   "cell_type": "code",
   "execution_count": 423,
   "id": "2604f269-705a-49fb-9e53-253cf22f37af",
   "metadata": {},
   "outputs": [
    {
     "data": {
      "text/plain": [
       "gender              2\n",
       "Partner             2\n",
       "Dependents          2\n",
       "PhoneService        2\n",
       "MultipleLines       2\n",
       "InternetService     3\n",
       "OnlineSecurity      2\n",
       "OnlineBackup        2\n",
       "DeviceProtection    2\n",
       "TechSupport         2\n",
       "StreamingTV         2\n",
       "StreamingMovies     2\n",
       "Contract            3\n",
       "PaperlessBilling    2\n",
       "PaymentMethod       4\n",
       "dtype: int64"
      ]
     },
     "execution_count": 423,
     "metadata": {},
     "output_type": "execute_result"
    }
   ],
   "source": [
    "churnTrain[categorical].nunique()"
   ]
  },
  {
   "cell_type": "code",
   "execution_count": 424,
   "id": "cfb566ac-8757-4a70-8809-7f6da4266a58",
   "metadata": {},
   "outputs": [
    {
     "data": {
      "text/plain": [
       "False    5626\n",
       "True        8\n",
       "Name: TotalCharges, dtype: int64"
      ]
     },
     "execution_count": 424,
     "metadata": {},
     "output_type": "execute_result"
    }
   ],
   "source": [
    "churnTrain['TotalCharges'].isnull().value_counts()"
   ]
  },
  {
   "cell_type": "code",
   "execution_count": 425,
   "id": "292bee90-dd4b-4db1-afaf-fddcbb90673f",
   "metadata": {},
   "outputs": [],
   "source": [
    "churnTrain['TotalCharges'].fillna(churnTrain['TotalCharges'].mean(),inplace=True)"
   ]
  },
  {
   "cell_type": "code",
   "execution_count": 277,
   "id": "c84e91be-bd6d-44e0-bbbb-7fd1d04f7c27",
   "metadata": {},
   "outputs": [
    {
     "data": {
      "text/plain": [
       "False    5634\n",
       "Name: TotalCharges, dtype: int64"
      ]
     },
     "execution_count": 277,
     "metadata": {},
     "output_type": "execute_result"
    }
   ],
   "source": [
    "churnTrain['TotalCharges'].isnull().value_counts()"
   ]
  },
  {
   "cell_type": "code",
   "execution_count": 430,
   "id": "a87b8b1d-5500-439e-9f90-5c5b72161d77",
   "metadata": {},
   "outputs": [],
   "source": [
    "from sklearn.preprocessing import OneHotEncoder\n",
    "\n",
    "def one_hot_encoder(dataframe, categorical_cols, drop_first=True):\n",
    "    dataframe = pd.get_dummies(dataframe, columns=categorical_cols, drop_first=drop_first)\n",
    "    return dataframe\n",
    "\n",
    "\n",
    "df = one_hot_encoder(churnTrain, categorical)\n",
    "\n"
   ]
  },
  {
   "cell_type": "code",
   "execution_count": 431,
   "id": "43adbb1c-f99d-4bc8-9237-24b82dd8c5da",
   "metadata": {},
   "outputs": [
    {
     "data": {
      "text/html": [
       "<div>\n",
       "<style scoped>\n",
       "    .dataframe tbody tr th:only-of-type {\n",
       "        vertical-align: middle;\n",
       "    }\n",
       "\n",
       "    .dataframe tbody tr th {\n",
       "        vertical-align: top;\n",
       "    }\n",
       "\n",
       "    .dataframe thead th {\n",
       "        text-align: right;\n",
       "    }\n",
       "</style>\n",
       "<table border=\"1\" class=\"dataframe\">\n",
       "  <thead>\n",
       "    <tr style=\"text-align: right;\">\n",
       "      <th></th>\n",
       "      <th>SeniorCitizen</th>\n",
       "      <th>tenure</th>\n",
       "      <th>MonthlyCharges</th>\n",
       "      <th>TotalCharges</th>\n",
       "      <th>Churn</th>\n",
       "      <th>gender_Male</th>\n",
       "      <th>Partner_Yes</th>\n",
       "      <th>Dependents_Yes</th>\n",
       "      <th>PhoneService_Yes</th>\n",
       "      <th>MultipleLines_Yes</th>\n",
       "      <th>InternetService_Fiber optic</th>\n",
       "      <th>InternetService_No</th>\n",
       "      <th>OnlineSecurity_Yes</th>\n",
       "      <th>OnlineBackup_Yes</th>\n",
       "      <th>DeviceProtection_Yes</th>\n",
       "      <th>TechSupport_Yes</th>\n",
       "      <th>StreamingTV_Yes</th>\n",
       "      <th>StreamingMovies_Yes</th>\n",
       "      <th>Contract_One year</th>\n",
       "      <th>Contract_Two year</th>\n",
       "      <th>PaperlessBilling_Yes</th>\n",
       "      <th>PaymentMethod_Credit card (automatic)</th>\n",
       "      <th>PaymentMethod_Electronic check</th>\n",
       "      <th>PaymentMethod_Mailed check</th>\n",
       "    </tr>\n",
       "  </thead>\n",
       "  <tbody>\n",
       "    <tr>\n",
       "      <th>0</th>\n",
       "      <td>0.0</td>\n",
       "      <td>12.0</td>\n",
       "      <td>19.70</td>\n",
       "      <td>258.35</td>\n",
       "      <td>0.0</td>\n",
       "      <td>1</td>\n",
       "      <td>1</td>\n",
       "      <td>1</td>\n",
       "      <td>1</td>\n",
       "      <td>0</td>\n",
       "      <td>0</td>\n",
       "      <td>1</td>\n",
       "      <td>0</td>\n",
       "      <td>0</td>\n",
       "      <td>0</td>\n",
       "      <td>0</td>\n",
       "      <td>0</td>\n",
       "      <td>0</td>\n",
       "      <td>0</td>\n",
       "      <td>1</td>\n",
       "      <td>0</td>\n",
       "      <td>0</td>\n",
       "      <td>0</td>\n",
       "      <td>1</td>\n",
       "    </tr>\n",
       "    <tr>\n",
       "      <th>1</th>\n",
       "      <td>0.0</td>\n",
       "      <td>42.0</td>\n",
       "      <td>73.90</td>\n",
       "      <td>3160.55</td>\n",
       "      <td>1.0</td>\n",
       "      <td>0</td>\n",
       "      <td>0</td>\n",
       "      <td>0</td>\n",
       "      <td>1</td>\n",
       "      <td>0</td>\n",
       "      <td>0</td>\n",
       "      <td>0</td>\n",
       "      <td>1</td>\n",
       "      <td>1</td>\n",
       "      <td>1</td>\n",
       "      <td>1</td>\n",
       "      <td>0</td>\n",
       "      <td>1</td>\n",
       "      <td>1</td>\n",
       "      <td>0</td>\n",
       "      <td>0</td>\n",
       "      <td>1</td>\n",
       "      <td>0</td>\n",
       "      <td>0</td>\n",
       "    </tr>\n",
       "    <tr>\n",
       "      <th>2</th>\n",
       "      <td>0.0</td>\n",
       "      <td>71.0</td>\n",
       "      <td>65.15</td>\n",
       "      <td>4681.75</td>\n",
       "      <td>0.0</td>\n",
       "      <td>1</td>\n",
       "      <td>1</td>\n",
       "      <td>0</td>\n",
       "      <td>1</td>\n",
       "      <td>1</td>\n",
       "      <td>0</td>\n",
       "      <td>0</td>\n",
       "      <td>1</td>\n",
       "      <td>1</td>\n",
       "      <td>0</td>\n",
       "      <td>1</td>\n",
       "      <td>0</td>\n",
       "      <td>0</td>\n",
       "      <td>0</td>\n",
       "      <td>1</td>\n",
       "      <td>0</td>\n",
       "      <td>0</td>\n",
       "      <td>0</td>\n",
       "      <td>0</td>\n",
       "    </tr>\n",
       "    <tr>\n",
       "      <th>3</th>\n",
       "      <td>0.0</td>\n",
       "      <td>71.0</td>\n",
       "      <td>85.45</td>\n",
       "      <td>6300.85</td>\n",
       "      <td>0.0</td>\n",
       "      <td>1</td>\n",
       "      <td>1</td>\n",
       "      <td>1</td>\n",
       "      <td>1</td>\n",
       "      <td>1</td>\n",
       "      <td>0</td>\n",
       "      <td>0</td>\n",
       "      <td>1</td>\n",
       "      <td>0</td>\n",
       "      <td>1</td>\n",
       "      <td>1</td>\n",
       "      <td>1</td>\n",
       "      <td>1</td>\n",
       "      <td>1</td>\n",
       "      <td>0</td>\n",
       "      <td>0</td>\n",
       "      <td>0</td>\n",
       "      <td>1</td>\n",
       "      <td>0</td>\n",
       "    </tr>\n",
       "    <tr>\n",
       "      <th>4</th>\n",
       "      <td>0.0</td>\n",
       "      <td>30.0</td>\n",
       "      <td>70.40</td>\n",
       "      <td>2044.75</td>\n",
       "      <td>0.0</td>\n",
       "      <td>1</td>\n",
       "      <td>0</td>\n",
       "      <td>0</td>\n",
       "      <td>1</td>\n",
       "      <td>0</td>\n",
       "      <td>0</td>\n",
       "      <td>0</td>\n",
       "      <td>1</td>\n",
       "      <td>1</td>\n",
       "      <td>0</td>\n",
       "      <td>1</td>\n",
       "      <td>1</td>\n",
       "      <td>0</td>\n",
       "      <td>1</td>\n",
       "      <td>0</td>\n",
       "      <td>0</td>\n",
       "      <td>0</td>\n",
       "      <td>1</td>\n",
       "      <td>0</td>\n",
       "    </tr>\n",
       "  </tbody>\n",
       "</table>\n",
       "</div>"
      ],
      "text/plain": [
       "   SeniorCitizen  tenure  MonthlyCharges  TotalCharges  Churn  gender_Male  \\\n",
       "0            0.0    12.0           19.70        258.35    0.0            1   \n",
       "1            0.0    42.0           73.90       3160.55    1.0            0   \n",
       "2            0.0    71.0           65.15       4681.75    0.0            1   \n",
       "3            0.0    71.0           85.45       6300.85    0.0            1   \n",
       "4            0.0    30.0           70.40       2044.75    0.0            1   \n",
       "\n",
       "   Partner_Yes  Dependents_Yes  PhoneService_Yes  MultipleLines_Yes  \\\n",
       "0            1               1                 1                  0   \n",
       "1            0               0                 1                  0   \n",
       "2            1               0                 1                  1   \n",
       "3            1               1                 1                  1   \n",
       "4            0               0                 1                  0   \n",
       "\n",
       "   InternetService_Fiber optic  InternetService_No  OnlineSecurity_Yes  \\\n",
       "0                            0                   1                   0   \n",
       "1                            0                   0                   1   \n",
       "2                            0                   0                   1   \n",
       "3                            0                   0                   1   \n",
       "4                            0                   0                   1   \n",
       "\n",
       "   OnlineBackup_Yes  DeviceProtection_Yes  TechSupport_Yes  StreamingTV_Yes  \\\n",
       "0                 0                     0                0                0   \n",
       "1                 1                     1                1                0   \n",
       "2                 1                     0                1                0   \n",
       "3                 0                     1                1                1   \n",
       "4                 1                     0                1                1   \n",
       "\n",
       "   StreamingMovies_Yes  Contract_One year  Contract_Two year  \\\n",
       "0                    0                  0                  1   \n",
       "1                    1                  1                  0   \n",
       "2                    0                  0                  1   \n",
       "3                    1                  1                  0   \n",
       "4                    0                  1                  0   \n",
       "\n",
       "   PaperlessBilling_Yes  PaymentMethod_Credit card (automatic)  \\\n",
       "0                     0                                      0   \n",
       "1                     0                                      1   \n",
       "2                     0                                      0   \n",
       "3                     0                                      0   \n",
       "4                     0                                      0   \n",
       "\n",
       "   PaymentMethod_Electronic check  PaymentMethod_Mailed check  \n",
       "0                               0                           1  \n",
       "1                               0                           0  \n",
       "2                               0                           0  \n",
       "3                               1                           0  \n",
       "4                               1                           0  "
      ]
     },
     "execution_count": 431,
     "metadata": {},
     "output_type": "execute_result"
    }
   ],
   "source": [
    "df.head()"
   ]
  },
  {
   "cell_type": "code",
   "execution_count": 435,
   "id": "1c48d4a9-bd46-4e87-be14-6eb3f71c8be4",
   "metadata": {},
   "outputs": [
    {
     "data": {
      "text/html": [
       "<div>\n",
       "<style scoped>\n",
       "    .dataframe tbody tr th:only-of-type {\n",
       "        vertical-align: middle;\n",
       "    }\n",
       "\n",
       "    .dataframe tbody tr th {\n",
       "        vertical-align: top;\n",
       "    }\n",
       "\n",
       "    .dataframe thead th {\n",
       "        text-align: right;\n",
       "    }\n",
       "</style>\n",
       "<table border=\"1\" class=\"dataframe\">\n",
       "  <thead>\n",
       "    <tr style=\"text-align: right;\">\n",
       "      <th></th>\n",
       "      <th>SeniorCitizen</th>\n",
       "      <th>tenure</th>\n",
       "      <th>MonthlyCharges</th>\n",
       "      <th>TotalCharges</th>\n",
       "    </tr>\n",
       "  </thead>\n",
       "  <tbody>\n",
       "    <tr>\n",
       "      <th>0</th>\n",
       "      <td>-0.439475</td>\n",
       "      <td>-0.825884</td>\n",
       "      <td>-1.497530</td>\n",
       "      <td>-0.893017</td>\n",
       "    </tr>\n",
       "    <tr>\n",
       "      <th>1</th>\n",
       "      <td>-0.439475</td>\n",
       "      <td>0.395961</td>\n",
       "      <td>0.302996</td>\n",
       "      <td>0.388543</td>\n",
       "    </tr>\n",
       "    <tr>\n",
       "      <th>2</th>\n",
       "      <td>-0.439475</td>\n",
       "      <td>1.577078</td>\n",
       "      <td>0.012320</td>\n",
       "      <td>1.060278</td>\n",
       "    </tr>\n",
       "    <tr>\n",
       "      <th>3</th>\n",
       "      <td>-0.439475</td>\n",
       "      <td>1.577078</td>\n",
       "      <td>0.686687</td>\n",
       "      <td>1.775244</td>\n",
       "    </tr>\n",
       "    <tr>\n",
       "      <th>4</th>\n",
       "      <td>-0.439475</td>\n",
       "      <td>-0.092777</td>\n",
       "      <td>0.186726</td>\n",
       "      <td>-0.104175</td>\n",
       "    </tr>\n",
       "  </tbody>\n",
       "</table>\n",
       "</div>"
      ],
      "text/plain": [
       "   SeniorCitizen    tenure  MonthlyCharges  TotalCharges\n",
       "0      -0.439475 -0.825884       -1.497530     -0.893017\n",
       "1      -0.439475  0.395961        0.302996      0.388543\n",
       "2      -0.439475  1.577078        0.012320      1.060278\n",
       "3      -0.439475  1.577078        0.686687      1.775244\n",
       "4      -0.439475 -0.092777        0.186726     -0.104175"
      ]
     },
     "execution_count": 435,
     "metadata": {},
     "output_type": "execute_result"
    }
   ],
   "source": [
    "scaler = StandardScaler()\n",
    "df[numerical] = scaler.fit_transform(df[numerical])\n",
    "\n",
    "df[numerical].head()"
   ]
  },
  {
   "cell_type": "code",
   "execution_count": 432,
   "id": "0cce42dc-1d66-43d0-a980-6f0cb2e17aad",
   "metadata": {},
   "outputs": [],
   "source": [
    "X = df.drop([\"Churn\"], axis=1)\n",
    "y = df[\"Churn\"]"
   ]
  },
  {
   "cell_type": "code",
   "execution_count": 436,
   "id": "05b19dcc-54f6-4083-893f-c0a86f6f32df",
   "metadata": {},
   "outputs": [],
   "source": [
    "X_train, X_test, y_train, y_test = train_test_split(X, y, test_size=0.2, random_state=123)"
   ]
  },
  {
   "cell_type": "code",
   "execution_count": 280,
   "id": "2b158d83-c04d-4a6e-b826-fe767b082b26",
   "metadata": {},
   "outputs": [
    {
     "data": {
      "text/plain": [
       "0.0    73.286\n",
       "1.0    26.714\n",
       "Name: Churn, dtype: float64"
      ]
     },
     "execution_count": 280,
     "metadata": {},
     "output_type": "execute_result"
    }
   ],
   "source": [
    "y_train.value_counts(normalize=True)*100"
   ]
  },
  {
   "cell_type": "code",
   "execution_count": 281,
   "id": "03ae883c-f74b-4747-b755-f52113497922",
   "metadata": {},
   "outputs": [
    {
     "data": {
      "text/plain": [
       "0.0    71.872227\n",
       "1.0    28.127773\n",
       "Name: Churn, dtype: float64"
      ]
     },
     "execution_count": 281,
     "metadata": {},
     "output_type": "execute_result"
    }
   ],
   "source": [
    "y_test.value_counts(normalize=True)*100"
   ]
  },
  {
   "cell_type": "code",
   "execution_count": 471,
   "id": "5ac8da6d-fc74-492c-88d8-efcf83b5c411",
   "metadata": {},
   "outputs": [
    {
     "data": {
      "text/plain": [
       "(4507, 23)"
      ]
     },
     "execution_count": 471,
     "metadata": {},
     "output_type": "execute_result"
    }
   ],
   "source": [
    "X_train.shape"
   ]
  },
  {
   "cell_type": "code",
   "execution_count": 472,
   "id": "c547bb13-3690-46c3-900d-686a274732e2",
   "metadata": {
    "tags": []
   },
   "outputs": [
    {
     "data": {
      "text/plain": [
       "(4507,)"
      ]
     },
     "execution_count": 472,
     "metadata": {},
     "output_type": "execute_result"
    }
   ],
   "source": [
    "y_train.shape"
   ]
  },
  {
   "cell_type": "markdown",
   "id": "206a0e98-ec72-4d69-ba92-e8c3df94b0bd",
   "metadata": {},
   "source": [
    "## Model Preparation and prediction"
   ]
  },
  {
   "cell_type": "code",
   "execution_count": 490,
   "id": "c03a5ad9-f2a0-4915-be9c-0a7454e74249",
   "metadata": {},
   "outputs": [],
   "source": [
    "#using Logistic Regression as Baseline Model\n",
    "\n",
    "logReg = LogisticRegression(random_state=123)\n",
    "\n",
    "logReg.fit(X_train,y_train)\n",
    "\n",
    "predsLogReg = logReg.predict(X_test)"
   ]
  },
  {
   "cell_type": "code",
   "execution_count": 491,
   "id": "946d0375-5100-46a0-9dec-05b2259eece0",
   "metadata": {},
   "outputs": [
    {
     "name": "stdout",
     "output_type": "stream",
     "text": [
      "              precision    recall  f1-score   support\n",
      "\n",
      "         0.0       0.83      0.90      0.86       810\n",
      "         1.0       0.66      0.52      0.58       317\n",
      "\n",
      "    accuracy                           0.79      1127\n",
      "   macro avg       0.74      0.71      0.72      1127\n",
      "weighted avg       0.78      0.79      0.78      1127\n",
      "\n"
     ]
    }
   ],
   "source": [
    "print(classification_report(y_test,predsLogReg))"
   ]
  },
  {
   "cell_type": "code",
   "execution_count": 494,
   "id": "7453af9b-7ce7-44ed-87e2-72f023ebbec6",
   "metadata": {},
   "outputs": [],
   "source": [
    "#using Logistic Regression as Baseline Model\n",
    "\n",
    "rfc = RandomForestClassifier(random_state=123)\n",
    "\n",
    "rfc.fit(X_train,y_train)\n",
    "\n",
    "predsRFC = rfc.predict(X_test)"
   ]
  },
  {
   "cell_type": "code",
   "execution_count": 495,
   "id": "cc2fe66f-5b52-4ca1-b014-d05004f00fbd",
   "metadata": {},
   "outputs": [
    {
     "name": "stdout",
     "output_type": "stream",
     "text": [
      "              precision    recall  f1-score   support\n",
      "\n",
      "         0.0       0.80      0.90      0.85       810\n",
      "         1.0       0.64      0.44      0.52       317\n",
      "\n",
      "    accuracy                           0.77      1127\n",
      "   macro avg       0.72      0.67      0.69      1127\n",
      "weighted avg       0.76      0.77      0.76      1127\n",
      "\n"
     ]
    }
   ],
   "source": [
    "print(classification_report(y_test,predsRFC))"
   ]
  },
  {
   "cell_type": "code",
   "execution_count": 441,
   "id": "b4371724-f899-41d7-ab70-54307e9c7db4",
   "metadata": {},
   "outputs": [],
   "source": [
    "logReg = LogisticRegression()\n",
    "\n",
    "logReg.fit(X_train,y_train)\n",
    "\n",
    "logPreds = logReg.predict(X_test)"
   ]
  },
  {
   "cell_type": "code",
   "execution_count": 447,
   "id": "3b2711a0-b603-4fef-bf4a-93f84820108e",
   "metadata": {},
   "outputs": [
    {
     "name": "stdout",
     "output_type": "stream",
     "text": [
      "0.7897071872227152\n"
     ]
    }
   ],
   "source": [
    "print(accuracy_score(y_test,logPreds))"
   ]
  },
  {
   "cell_type": "code",
   "execution_count": 450,
   "id": "7cafef4f-87fc-43d2-87e6-4da1616ad4c5",
   "metadata": {},
   "outputs": [
    {
     "name": "stdout",
     "output_type": "stream",
     "text": [
      "              precision    recall  f1-score   support\n",
      "\n",
      "         0.0       0.83      0.90      0.86       810\n",
      "         1.0       0.66      0.52      0.58       317\n",
      "\n",
      "    accuracy                           0.79      1127\n",
      "   macro avg       0.74      0.71      0.72      1127\n",
      "weighted avg       0.78      0.79      0.78      1127\n",
      "\n"
     ]
    }
   ],
   "source": [
    "print(classification_report(y_test,logPreds))"
   ]
  },
  {
   "cell_type": "code",
   "execution_count": 293,
   "id": "75f0e024-6f98-4763-83d7-08c8fbf3a285",
   "metadata": {},
   "outputs": [],
   "source": [
    "# from sklearn.pipeline import make_pipeline\n",
    "# from sklearn.pipeline import Pipeline\n",
    "\n",
    "# from sklearn.compose import make_column_transformer\n",
    "# from sklearn.model_selection import StratifiedKFold, cross_val_score\n",
    "# from sklearn.metrics import f1_score\n"
   ]
  },
  {
   "cell_type": "code",
   "execution_count": 290,
   "id": "b4b33e14-ba78-4d6e-9a94-7007dca1307a",
   "metadata": {},
   "outputs": [],
   "source": [
    "# from sklearn.compose import ColumnTransformer\n",
    "\n",
    "# transformer = ColumnTransformer([\n",
    "#     (\"OHE\", OneHotEncoder(drop=\"if_binary\"), categorical),\n",
    "#     (\"scaler\", StandardScaler(), numerical)\n",
    "# ], remainder=\"passthrough\")"
   ]
  },
  {
   "cell_type": "code",
   "execution_count": 291,
   "id": "50258599-0150-4bcb-8c54-c70da3d8c0a7",
   "metadata": {},
   "outputs": [],
   "source": [
    "# transformer"
   ]
  },
  {
   "cell_type": "code",
   "execution_count": 267,
   "id": "6268ec2a-7708-4db6-94cb-63b0e1aaa502",
   "metadata": {},
   "outputs": [],
   "source": [
    "# col_mask=churnTrain.isnull().any(axis=0)"
   ]
  },
  {
   "cell_type": "code",
   "execution_count": 268,
   "id": "9f23b261-d691-4e4d-a285-0c7f43919ddc",
   "metadata": {},
   "outputs": [],
   "source": [
    "# col_mask"
   ]
  },
  {
   "cell_type": "code",
   "execution_count": 269,
   "id": "b9504187-7912-4280-a9e9-62c67062e929",
   "metadata": {},
   "outputs": [],
   "source": [
    "# row_mask=churnTrain.isnull().any(axis=1)"
   ]
  },
  {
   "cell_type": "code",
   "execution_count": 271,
   "id": "6bbdfcb8-f099-4839-a488-cc83c6943169",
   "metadata": {},
   "outputs": [
    {
     "data": {
      "text/plain": [
       "False    5626\n",
       "True        8\n",
       "dtype: int64"
      ]
     },
     "execution_count": 271,
     "metadata": {},
     "output_type": "execute_result"
    }
   ],
   "source": [
    "# row_mask.value_counts()"
   ]
  },
  {
   "cell_type": "code",
   "execution_count": 487,
   "id": "60b77238-5acc-4cda-9e81-94ae06acc67d",
   "metadata": {},
   "outputs": [],
   "source": [
    "# models = []\n",
    "\n",
    "# models.append((\"LR\", LogisticRegression()))\n",
    "# # models.append((\"SVC\", SVC()))\n",
    "# # models.append((\"KNN\", KNeighborsClassifier()))\n",
    "# models.append((\"DT\", DecisionTreeClassifier()))\n",
    "# models.append((\"RF\", RandomForestClassifier()))\n",
    "# # models.append((\"ADA\", AdaBoostClassifier()))\n",
    "# # models.append((\"GB\", GradientBoostingClassifier()))\n",
    "# # models.append((\"XGB\", XGBClassifier(eval_metric='mlogloss')))\n",
    "\n",
    "# # evaluate each model in turn\n",
    "\n",
    "# results = []\n",
    "# names = []\n",
    "# f1_scores = []\n",
    "# # recall_scores = []\n",
    "# # roc_auc_scores = []\n",
    "# acc_scores = []\n",
    "\n",
    "# for name, model in models:\n",
    "#     pipe = Pipeline([(\"transformer\", transformer),\n",
    "#                      (\"model\", model)])\n",
    "#     kfold = StratifiedKFold(n_splits=10, random_state=42, shuffle=True)\n",
    "#     cv_results = cross_val_score(pipe, X_train, y_train, cv=kfold, scoring=\"recall\")\n",
    "\n",
    "#     results.append(cv_results)\n",
    "#     names.append(name)\n",
    "\n",
    "#     y_pred = pipe.fit(X_train, y_train).predict(X_test)\n",
    "    \n",
    "#     f1_scores.append(f1_score(y_test, y_pred))\n",
    "#     # recall_scores.append(recall_score(y_test, y_pred))\n",
    "#     # roc_auc_scores.append(roc_auc_score(y_test, y_pred))\n",
    "#     acc_scores.append(accuracy_score(y_test, y_pred))    \n",
    "    \n",
    "\n",
    "# # result_df = pd.DataFrame(results, columns=[i for i in range(1, 11)], index=names).T\n",
    "# # result_df.iplot(kind=\"box\", boxpoints=\"all\", title=\"CV Results\")\n",
    "\n",
    "# # compare = pd.DataFrame({\"F1\": f1_scores,\n",
    "# #                         \"Recall\": recall_scores,\n",
    "# #                         \"ROC AUC\": roc_auc_scores, \n",
    "# #                         \"Accuracy\": acc_scores \n",
    "# #                        }, index=names)\n",
    "\n",
    "# # compare\n",
    "\n",
    "# # for score in compare.columns:\n",
    "# #     compare[score].sort_values().iplot(kind=\"barh\", title=f\"{score} Scores\")"
   ]
  },
  {
   "cell_type": "code",
   "execution_count": 488,
   "id": "4a9be57d-ce3b-4ebe-a080-6c27ba9bf0be",
   "metadata": {},
   "outputs": [],
   "source": [
    "\n",
    "# classification=pd.DataFrame( {\"F1\": f1_scores,\n",
    "#                          \"Accuracy\": acc_scores \n",
    "#                         }, index=names).sort_values(by=\"Accuracy\",ascending=False)\n",
    "\n",
    "# classification"
   ]
  },
  {
   "cell_type": "markdown",
   "id": "a863ce15-5f92-4444-b6b8-439f586adca5",
   "metadata": {},
   "source": [
    "## 6.5) Preprocessing the Test Data before prediction"
   ]
  },
  {
   "cell_type": "code",
   "execution_count": 455,
   "id": "eb075b7c-77cd-4fd2-ba57-0f1a873824e0",
   "metadata": {},
   "outputs": [
    {
     "data": {
      "text/html": [
       "<div>\n",
       "<style scoped>\n",
       "    .dataframe tbody tr th:only-of-type {\n",
       "        vertical-align: middle;\n",
       "    }\n",
       "\n",
       "    .dataframe tbody tr th {\n",
       "        vertical-align: top;\n",
       "    }\n",
       "\n",
       "    .dataframe thead th {\n",
       "        text-align: right;\n",
       "    }\n",
       "</style>\n",
       "<table border=\"1\" class=\"dataframe\">\n",
       "  <thead>\n",
       "    <tr style=\"text-align: right;\">\n",
       "      <th></th>\n",
       "      <th>customerID</th>\n",
       "      <th>gender</th>\n",
       "      <th>SeniorCitizen</th>\n",
       "      <th>Partner</th>\n",
       "      <th>Dependents</th>\n",
       "      <th>tenure</th>\n",
       "      <th>PhoneService</th>\n",
       "      <th>MultipleLines</th>\n",
       "      <th>InternetService</th>\n",
       "      <th>OnlineSecurity</th>\n",
       "      <th>OnlineBackup</th>\n",
       "      <th>DeviceProtection</th>\n",
       "      <th>TechSupport</th>\n",
       "      <th>StreamingTV</th>\n",
       "      <th>StreamingMovies</th>\n",
       "      <th>Contract</th>\n",
       "      <th>PaperlessBilling</th>\n",
       "      <th>PaymentMethod</th>\n",
       "      <th>MonthlyCharges</th>\n",
       "      <th>TotalCharges</th>\n",
       "    </tr>\n",
       "  </thead>\n",
       "  <tbody>\n",
       "    <tr>\n",
       "      <th>0</th>\n",
       "      <td>8879-ZKJOF</td>\n",
       "      <td>Female</td>\n",
       "      <td>0</td>\n",
       "      <td>No</td>\n",
       "      <td>No</td>\n",
       "      <td>41</td>\n",
       "      <td>Yes</td>\n",
       "      <td>No</td>\n",
       "      <td>DSL</td>\n",
       "      <td>Yes</td>\n",
       "      <td>No</td>\n",
       "      <td>Yes</td>\n",
       "      <td>Yes</td>\n",
       "      <td>Yes</td>\n",
       "      <td>Yes</td>\n",
       "      <td>One year</td>\n",
       "      <td>Yes</td>\n",
       "      <td>Bank transfer (automatic)</td>\n",
       "      <td>79.85</td>\n",
       "      <td>3320.75</td>\n",
       "    </tr>\n",
       "    <tr>\n",
       "      <th>1</th>\n",
       "      <td>0201-MIBOL</td>\n",
       "      <td>Female</td>\n",
       "      <td>1</td>\n",
       "      <td>No</td>\n",
       "      <td>No</td>\n",
       "      <td>66</td>\n",
       "      <td>Yes</td>\n",
       "      <td>Yes</td>\n",
       "      <td>Fiber optic</td>\n",
       "      <td>Yes</td>\n",
       "      <td>No</td>\n",
       "      <td>No</td>\n",
       "      <td>No</td>\n",
       "      <td>Yes</td>\n",
       "      <td>Yes</td>\n",
       "      <td>Two year</td>\n",
       "      <td>Yes</td>\n",
       "      <td>Bank transfer (automatic)</td>\n",
       "      <td>102.40</td>\n",
       "      <td>6471.85</td>\n",
       "    </tr>\n",
       "    <tr>\n",
       "      <th>2</th>\n",
       "      <td>1600-DILPE</td>\n",
       "      <td>Female</td>\n",
       "      <td>0</td>\n",
       "      <td>No</td>\n",
       "      <td>No</td>\n",
       "      <td>12</td>\n",
       "      <td>Yes</td>\n",
       "      <td>No</td>\n",
       "      <td>DSL</td>\n",
       "      <td>No</td>\n",
       "      <td>No</td>\n",
       "      <td>No</td>\n",
       "      <td>No</td>\n",
       "      <td>No</td>\n",
       "      <td>No</td>\n",
       "      <td>Month-to-month</td>\n",
       "      <td>Yes</td>\n",
       "      <td>Bank transfer (automatic)</td>\n",
       "      <td>45.00</td>\n",
       "      <td>524.35</td>\n",
       "    </tr>\n",
       "    <tr>\n",
       "      <th>3</th>\n",
       "      <td>8601-QACRS</td>\n",
       "      <td>Female</td>\n",
       "      <td>0</td>\n",
       "      <td>No</td>\n",
       "      <td>No</td>\n",
       "      <td>5</td>\n",
       "      <td>Yes</td>\n",
       "      <td>Yes</td>\n",
       "      <td>DSL</td>\n",
       "      <td>No</td>\n",
       "      <td>No</td>\n",
       "      <td>No</td>\n",
       "      <td>No</td>\n",
       "      <td>No</td>\n",
       "      <td>No</td>\n",
       "      <td>Month-to-month</td>\n",
       "      <td>Yes</td>\n",
       "      <td>Mailed check</td>\n",
       "      <td>50.60</td>\n",
       "      <td>249.95</td>\n",
       "    </tr>\n",
       "    <tr>\n",
       "      <th>4</th>\n",
       "      <td>7919-ZODZZ</td>\n",
       "      <td>Female</td>\n",
       "      <td>0</td>\n",
       "      <td>Yes</td>\n",
       "      <td>Yes</td>\n",
       "      <td>10</td>\n",
       "      <td>Yes</td>\n",
       "      <td>No</td>\n",
       "      <td>DSL</td>\n",
       "      <td>No</td>\n",
       "      <td>Yes</td>\n",
       "      <td>Yes</td>\n",
       "      <td>No</td>\n",
       "      <td>No</td>\n",
       "      <td>Yes</td>\n",
       "      <td>One year</td>\n",
       "      <td>Yes</td>\n",
       "      <td>Mailed check</td>\n",
       "      <td>65.90</td>\n",
       "      <td>660.05</td>\n",
       "    </tr>\n",
       "  </tbody>\n",
       "</table>\n",
       "</div>"
      ],
      "text/plain": [
       "   customerID  gender  SeniorCitizen Partner Dependents  tenure PhoneService  \\\n",
       "0  8879-ZKJOF  Female              0      No         No      41          Yes   \n",
       "1  0201-MIBOL  Female              1      No         No      66          Yes   \n",
       "2  1600-DILPE  Female              0      No         No      12          Yes   \n",
       "3  8601-QACRS  Female              0      No         No       5          Yes   \n",
       "4  7919-ZODZZ  Female              0     Yes        Yes      10          Yes   \n",
       "\n",
       "  MultipleLines InternetService OnlineSecurity OnlineBackup DeviceProtection  \\\n",
       "0            No             DSL            Yes           No              Yes   \n",
       "1           Yes     Fiber optic            Yes           No               No   \n",
       "2            No             DSL             No           No               No   \n",
       "3           Yes             DSL             No           No               No   \n",
       "4            No             DSL             No          Yes              Yes   \n",
       "\n",
       "  TechSupport StreamingTV StreamingMovies        Contract PaperlessBilling  \\\n",
       "0         Yes         Yes             Yes        One year              Yes   \n",
       "1          No         Yes             Yes        Two year              Yes   \n",
       "2          No          No              No  Month-to-month              Yes   \n",
       "3          No          No              No  Month-to-month              Yes   \n",
       "4          No          No             Yes        One year              Yes   \n",
       "\n",
       "               PaymentMethod  MonthlyCharges TotalCharges  \n",
       "0  Bank transfer (automatic)           79.85      3320.75  \n",
       "1  Bank transfer (automatic)          102.40      6471.85  \n",
       "2  Bank transfer (automatic)           45.00       524.35  \n",
       "3               Mailed check           50.60       249.95  \n",
       "4               Mailed check           65.90       660.05  "
      ]
     },
     "execution_count": 455,
     "metadata": {},
     "output_type": "execute_result"
    }
   ],
   "source": [
    "churnTest.head()"
   ]
  },
  {
   "cell_type": "code",
   "execution_count": 456,
   "id": "ec01298b-f0c5-4770-809f-8b5f7c4b168d",
   "metadata": {},
   "outputs": [],
   "source": [
    "churnTest.drop(\"customerID\", axis=1, inplace=True)"
   ]
  },
  {
   "cell_type": "code",
   "execution_count": 457,
   "id": "43acf5a3-cec6-4763-ae97-8d0b033a2b80",
   "metadata": {},
   "outputs": [
    {
     "data": {
      "text/plain": [
       "(1409, 19)"
      ]
     },
     "execution_count": 457,
     "metadata": {},
     "output_type": "execute_result"
    }
   ],
   "source": [
    "churnTest.shape"
   ]
  },
  {
   "cell_type": "code",
   "execution_count": 458,
   "id": "1965537e-d42c-4aff-8276-be6cfb9bbab2",
   "metadata": {},
   "outputs": [
    {
     "name": "stdout",
     "output_type": "stream",
     "text": [
      "Before dealing with blank values\n",
      "Int64Index([103, 592, 1327], dtype='int64')\n"
     ]
    }
   ],
   "source": [
    "print(\"Before dealing with blank values\")\n",
    "print(churnTest[churnTest['TotalCharges'] == ' '].index) "
   ]
  },
  {
   "cell_type": "code",
   "execution_count": 459,
   "id": "458fa201-23e3-425b-882e-8053510ba150",
   "metadata": {},
   "outputs": [],
   "source": [
    "churnTest['TotalCharges']= churnTest['TotalCharges'].apply(lambda x: x if x!= ' ' else np.nan).astype(float)"
   ]
  },
  {
   "cell_type": "code",
   "execution_count": 460,
   "id": "6d72679a-f41c-4d4a-9f42-a4468b8570cc",
   "metadata": {},
   "outputs": [],
   "source": [
    "churnTest['SeniorCitizen']= churnTest['SeniorCitizen'].astype(float)\n",
    "churnTest['tenure']= churnTest['tenure'].astype(float)"
   ]
  },
  {
   "cell_type": "code",
   "execution_count": 461,
   "id": "0f95ea6d-c4b4-44cc-8638-e9bad4936d26",
   "metadata": {
    "tags": []
   },
   "outputs": [],
   "source": [
    "numerical= churnTest.select_dtypes('number').columns\n",
    "\n",
    "categorical = churnTest.select_dtypes('object').columns"
   ]
  },
  {
   "cell_type": "code",
   "execution_count": 462,
   "id": "c6e44c76-3425-403b-b9cb-62169f66dbcb",
   "metadata": {},
   "outputs": [
    {
     "name": "stdout",
     "output_type": "stream",
     "text": [
      "Test Data, Numerical:  Index(['SeniorCitizen', 'tenure', 'MonthlyCharges', 'TotalCharges'], dtype='object')\n",
      "Test Data, Categorical:  Index(['gender', 'Partner', 'Dependents', 'PhoneService', 'MultipleLines',\n",
      "       'InternetService', 'OnlineSecurity', 'OnlineBackup', 'DeviceProtection',\n",
      "       'TechSupport', 'StreamingTV', 'StreamingMovies', 'Contract',\n",
      "       'PaperlessBilling', 'PaymentMethod'],\n",
      "      dtype='object')\n"
     ]
    }
   ],
   "source": [
    "print(\"Test Data, Numerical: \",numerical)\n",
    "print(\"Test Data, Categorical: \",categorical)"
   ]
  },
  {
   "cell_type": "code",
   "execution_count": 463,
   "id": "59007e83-89f3-47b7-979f-f172f993587d",
   "metadata": {},
   "outputs": [],
   "source": [
    "churnTest[\"MultipleLines\"]= churnTest[\"MultipleLines\"].replace(\"No phone service\", \"No\")"
   ]
  },
  {
   "cell_type": "code",
   "execution_count": 464,
   "id": "84efa16b-ae8c-4e3a-a586-60867c58bfa4",
   "metadata": {},
   "outputs": [],
   "source": [
    "churnTest[[\"OnlineSecurity\", \"OnlineBackup\", \"DeviceProtection\", \"TechSupport\", \"StreamingTV\", \"StreamingMovies\"]] =churnTest[[\"OnlineSecurity\", \"OnlineBackup\", \"DeviceProtection\", \"TechSupport\", \"StreamingTV\", \"StreamingMovies\"]].replace(\"No internet service\", \"No\")"
   ]
  },
  {
   "cell_type": "code",
   "execution_count": 465,
   "id": "06dcf185-87a2-4653-9131-520f326a9031",
   "metadata": {},
   "outputs": [
    {
     "data": {
      "text/plain": [
       "False    1406\n",
       "True        3\n",
       "Name: TotalCharges, dtype: int64"
      ]
     },
     "execution_count": 465,
     "metadata": {},
     "output_type": "execute_result"
    }
   ],
   "source": [
    "churnTest['TotalCharges'].isnull().value_counts()"
   ]
  },
  {
   "cell_type": "code",
   "execution_count": 466,
   "id": "a56d6f68-7f82-4ead-bba2-ceeed457d977",
   "metadata": {},
   "outputs": [],
   "source": [
    "churnTest['TotalCharges'].fillna(churnTest['TotalCharges'].mean(),inplace=True)"
   ]
  },
  {
   "cell_type": "code",
   "execution_count": 467,
   "id": "f239f2ba-796a-49d1-b699-e4a19905b480",
   "metadata": {},
   "outputs": [
    {
     "data": {
      "text/plain": [
       "False    1409\n",
       "Name: TotalCharges, dtype: int64"
      ]
     },
     "execution_count": 467,
     "metadata": {},
     "output_type": "execute_result"
    }
   ],
   "source": [
    "churnTest['TotalCharges'].isnull().value_counts()"
   ]
  },
  {
   "cell_type": "code",
   "execution_count": 468,
   "id": "1e73943b-ad63-4e60-aea4-6b0e38d78ad0",
   "metadata": {},
   "outputs": [],
   "source": [
    "dfTest = one_hot_encoder(churnTest,categorical)"
   ]
  },
  {
   "cell_type": "code",
   "execution_count": 469,
   "id": "180f03e4-13d2-40ab-b085-87f445c53400",
   "metadata": {},
   "outputs": [
    {
     "data": {
      "text/html": [
       "<div>\n",
       "<style scoped>\n",
       "    .dataframe tbody tr th:only-of-type {\n",
       "        vertical-align: middle;\n",
       "    }\n",
       "\n",
       "    .dataframe tbody tr th {\n",
       "        vertical-align: top;\n",
       "    }\n",
       "\n",
       "    .dataframe thead th {\n",
       "        text-align: right;\n",
       "    }\n",
       "</style>\n",
       "<table border=\"1\" class=\"dataframe\">\n",
       "  <thead>\n",
       "    <tr style=\"text-align: right;\">\n",
       "      <th></th>\n",
       "      <th>SeniorCitizen</th>\n",
       "      <th>tenure</th>\n",
       "      <th>MonthlyCharges</th>\n",
       "      <th>TotalCharges</th>\n",
       "      <th>gender_Male</th>\n",
       "      <th>Partner_Yes</th>\n",
       "      <th>Dependents_Yes</th>\n",
       "      <th>PhoneService_Yes</th>\n",
       "      <th>MultipleLines_Yes</th>\n",
       "      <th>InternetService_Fiber optic</th>\n",
       "      <th>InternetService_No</th>\n",
       "      <th>OnlineSecurity_Yes</th>\n",
       "      <th>OnlineBackup_Yes</th>\n",
       "      <th>DeviceProtection_Yes</th>\n",
       "      <th>TechSupport_Yes</th>\n",
       "      <th>StreamingTV_Yes</th>\n",
       "      <th>StreamingMovies_Yes</th>\n",
       "      <th>Contract_One year</th>\n",
       "      <th>Contract_Two year</th>\n",
       "      <th>PaperlessBilling_Yes</th>\n",
       "      <th>PaymentMethod_Credit card (automatic)</th>\n",
       "      <th>PaymentMethod_Electronic check</th>\n",
       "      <th>PaymentMethod_Mailed check</th>\n",
       "    </tr>\n",
       "  </thead>\n",
       "  <tbody>\n",
       "    <tr>\n",
       "      <th>0</th>\n",
       "      <td>0.0</td>\n",
       "      <td>41.0</td>\n",
       "      <td>79.85</td>\n",
       "      <td>3320.75</td>\n",
       "      <td>0</td>\n",
       "      <td>0</td>\n",
       "      <td>0</td>\n",
       "      <td>1</td>\n",
       "      <td>0</td>\n",
       "      <td>0</td>\n",
       "      <td>0</td>\n",
       "      <td>1</td>\n",
       "      <td>0</td>\n",
       "      <td>1</td>\n",
       "      <td>1</td>\n",
       "      <td>1</td>\n",
       "      <td>1</td>\n",
       "      <td>1</td>\n",
       "      <td>0</td>\n",
       "      <td>1</td>\n",
       "      <td>0</td>\n",
       "      <td>0</td>\n",
       "      <td>0</td>\n",
       "    </tr>\n",
       "    <tr>\n",
       "      <th>1</th>\n",
       "      <td>1.0</td>\n",
       "      <td>66.0</td>\n",
       "      <td>102.40</td>\n",
       "      <td>6471.85</td>\n",
       "      <td>0</td>\n",
       "      <td>0</td>\n",
       "      <td>0</td>\n",
       "      <td>1</td>\n",
       "      <td>1</td>\n",
       "      <td>1</td>\n",
       "      <td>0</td>\n",
       "      <td>1</td>\n",
       "      <td>0</td>\n",
       "      <td>0</td>\n",
       "      <td>0</td>\n",
       "      <td>1</td>\n",
       "      <td>1</td>\n",
       "      <td>0</td>\n",
       "      <td>1</td>\n",
       "      <td>1</td>\n",
       "      <td>0</td>\n",
       "      <td>0</td>\n",
       "      <td>0</td>\n",
       "    </tr>\n",
       "    <tr>\n",
       "      <th>2</th>\n",
       "      <td>0.0</td>\n",
       "      <td>12.0</td>\n",
       "      <td>45.00</td>\n",
       "      <td>524.35</td>\n",
       "      <td>0</td>\n",
       "      <td>0</td>\n",
       "      <td>0</td>\n",
       "      <td>1</td>\n",
       "      <td>0</td>\n",
       "      <td>0</td>\n",
       "      <td>0</td>\n",
       "      <td>0</td>\n",
       "      <td>0</td>\n",
       "      <td>0</td>\n",
       "      <td>0</td>\n",
       "      <td>0</td>\n",
       "      <td>0</td>\n",
       "      <td>0</td>\n",
       "      <td>0</td>\n",
       "      <td>1</td>\n",
       "      <td>0</td>\n",
       "      <td>0</td>\n",
       "      <td>0</td>\n",
       "    </tr>\n",
       "    <tr>\n",
       "      <th>3</th>\n",
       "      <td>0.0</td>\n",
       "      <td>5.0</td>\n",
       "      <td>50.60</td>\n",
       "      <td>249.95</td>\n",
       "      <td>0</td>\n",
       "      <td>0</td>\n",
       "      <td>0</td>\n",
       "      <td>1</td>\n",
       "      <td>1</td>\n",
       "      <td>0</td>\n",
       "      <td>0</td>\n",
       "      <td>0</td>\n",
       "      <td>0</td>\n",
       "      <td>0</td>\n",
       "      <td>0</td>\n",
       "      <td>0</td>\n",
       "      <td>0</td>\n",
       "      <td>0</td>\n",
       "      <td>0</td>\n",
       "      <td>1</td>\n",
       "      <td>0</td>\n",
       "      <td>0</td>\n",
       "      <td>1</td>\n",
       "    </tr>\n",
       "    <tr>\n",
       "      <th>4</th>\n",
       "      <td>0.0</td>\n",
       "      <td>10.0</td>\n",
       "      <td>65.90</td>\n",
       "      <td>660.05</td>\n",
       "      <td>0</td>\n",
       "      <td>1</td>\n",
       "      <td>1</td>\n",
       "      <td>1</td>\n",
       "      <td>0</td>\n",
       "      <td>0</td>\n",
       "      <td>0</td>\n",
       "      <td>0</td>\n",
       "      <td>1</td>\n",
       "      <td>1</td>\n",
       "      <td>0</td>\n",
       "      <td>0</td>\n",
       "      <td>1</td>\n",
       "      <td>1</td>\n",
       "      <td>0</td>\n",
       "      <td>1</td>\n",
       "      <td>0</td>\n",
       "      <td>0</td>\n",
       "      <td>1</td>\n",
       "    </tr>\n",
       "  </tbody>\n",
       "</table>\n",
       "</div>"
      ],
      "text/plain": [
       "   SeniorCitizen  tenure  MonthlyCharges  TotalCharges  gender_Male  \\\n",
       "0            0.0    41.0           79.85       3320.75            0   \n",
       "1            1.0    66.0          102.40       6471.85            0   \n",
       "2            0.0    12.0           45.00        524.35            0   \n",
       "3            0.0     5.0           50.60        249.95            0   \n",
       "4            0.0    10.0           65.90        660.05            0   \n",
       "\n",
       "   Partner_Yes  Dependents_Yes  PhoneService_Yes  MultipleLines_Yes  \\\n",
       "0            0               0                 1                  0   \n",
       "1            0               0                 1                  1   \n",
       "2            0               0                 1                  0   \n",
       "3            0               0                 1                  1   \n",
       "4            1               1                 1                  0   \n",
       "\n",
       "   InternetService_Fiber optic  InternetService_No  OnlineSecurity_Yes  \\\n",
       "0                            0                   0                   1   \n",
       "1                            1                   0                   1   \n",
       "2                            0                   0                   0   \n",
       "3                            0                   0                   0   \n",
       "4                            0                   0                   0   \n",
       "\n",
       "   OnlineBackup_Yes  DeviceProtection_Yes  TechSupport_Yes  StreamingTV_Yes  \\\n",
       "0                 0                     1                1                1   \n",
       "1                 0                     0                0                1   \n",
       "2                 0                     0                0                0   \n",
       "3                 0                     0                0                0   \n",
       "4                 1                     1                0                0   \n",
       "\n",
       "   StreamingMovies_Yes  Contract_One year  Contract_Two year  \\\n",
       "0                    1                  1                  0   \n",
       "1                    1                  0                  1   \n",
       "2                    0                  0                  0   \n",
       "3                    0                  0                  0   \n",
       "4                    1                  1                  0   \n",
       "\n",
       "   PaperlessBilling_Yes  PaymentMethod_Credit card (automatic)  \\\n",
       "0                     1                                      0   \n",
       "1                     1                                      0   \n",
       "2                     1                                      0   \n",
       "3                     1                                      0   \n",
       "4                     1                                      0   \n",
       "\n",
       "   PaymentMethod_Electronic check  PaymentMethod_Mailed check  \n",
       "0                               0                           0  \n",
       "1                               0                           0  \n",
       "2                               0                           0  \n",
       "3                               0                           1  \n",
       "4                               0                           1  "
      ]
     },
     "execution_count": 469,
     "metadata": {},
     "output_type": "execute_result"
    }
   ],
   "source": [
    "dfTest.head()"
   ]
  },
  {
   "cell_type": "code",
   "execution_count": 470,
   "id": "ef3c48eb-34cf-4193-ac58-d730ebac786a",
   "metadata": {},
   "outputs": [
    {
     "data": {
      "text/html": [
       "<div>\n",
       "<style scoped>\n",
       "    .dataframe tbody tr th:only-of-type {\n",
       "        vertical-align: middle;\n",
       "    }\n",
       "\n",
       "    .dataframe tbody tr th {\n",
       "        vertical-align: top;\n",
       "    }\n",
       "\n",
       "    .dataframe thead th {\n",
       "        text-align: right;\n",
       "    }\n",
       "</style>\n",
       "<table border=\"1\" class=\"dataframe\">\n",
       "  <thead>\n",
       "    <tr style=\"text-align: right;\">\n",
       "      <th></th>\n",
       "      <th>SeniorCitizen</th>\n",
       "      <th>tenure</th>\n",
       "      <th>MonthlyCharges</th>\n",
       "      <th>TotalCharges</th>\n",
       "    </tr>\n",
       "  </thead>\n",
       "  <tbody>\n",
       "    <tr>\n",
       "      <th>0</th>\n",
       "      <td>-0.441679</td>\n",
       "      <td>0.335987</td>\n",
       "      <td>0.504761</td>\n",
       "      <td>0.453208</td>\n",
       "    </tr>\n",
       "    <tr>\n",
       "      <th>1</th>\n",
       "      <td>2.264086</td>\n",
       "      <td>1.353363</td>\n",
       "      <td>1.255673</td>\n",
       "      <td>1.843912</td>\n",
       "    </tr>\n",
       "    <tr>\n",
       "      <th>2</th>\n",
       "      <td>-0.441679</td>\n",
       "      <td>-0.844170</td>\n",
       "      <td>-0.655741</td>\n",
       "      <td>-0.780952</td>\n",
       "    </tr>\n",
       "    <tr>\n",
       "      <th>3</th>\n",
       "      <td>-0.441679</td>\n",
       "      <td>-1.129035</td>\n",
       "      <td>-0.469262</td>\n",
       "      <td>-0.902056</td>\n",
       "    </tr>\n",
       "    <tr>\n",
       "      <th>4</th>\n",
       "      <td>-0.441679</td>\n",
       "      <td>-0.925560</td>\n",
       "      <td>0.040227</td>\n",
       "      <td>-0.721063</td>\n",
       "    </tr>\n",
       "  </tbody>\n",
       "</table>\n",
       "</div>"
      ],
      "text/plain": [
       "   SeniorCitizen    tenure  MonthlyCharges  TotalCharges\n",
       "0      -0.441679  0.335987        0.504761      0.453208\n",
       "1       2.264086  1.353363        1.255673      1.843912\n",
       "2      -0.441679 -0.844170       -0.655741     -0.780952\n",
       "3      -0.441679 -1.129035       -0.469262     -0.902056\n",
       "4      -0.441679 -0.925560        0.040227     -0.721063"
      ]
     },
     "execution_count": 470,
     "metadata": {},
     "output_type": "execute_result"
    }
   ],
   "source": [
    "scaler = StandardScaler()\n",
    "dfTest[numerical] = scaler.fit_transform(dfTest[numerical])\n",
    "\n",
    "dfTest[numerical].head()"
   ]
  },
  {
   "cell_type": "markdown",
   "id": "8c0fe3e5-c5ab-477c-a459-af3d1f765587",
   "metadata": {},
   "source": [
    "### 6.5.2) Predicting the target feature based on X_test"
   ]
  },
  {
   "cell_type": "code",
   "execution_count": 475,
   "id": "eb7000ec-4eec-452a-8112-35789e5aadfe",
   "metadata": {},
   "outputs": [],
   "source": [
    "churnTest_X_test = dfTest"
   ]
  },
  {
   "cell_type": "code",
   "execution_count": 476,
   "id": "d8391cab-605d-43df-a3ae-90809a96683b",
   "metadata": {},
   "outputs": [
    {
     "data": {
      "text/plain": [
       "(1409, 23)"
      ]
     },
     "execution_count": 476,
     "metadata": {},
     "output_type": "execute_result"
    }
   ],
   "source": [
    "churnTest_X_test.shape"
   ]
  },
  {
   "cell_type": "code",
   "execution_count": 478,
   "id": "76f4adb6-b3a3-465a-b99d-c9997c640f4d",
   "metadata": {
    "tags": []
   },
   "outputs": [],
   "source": [
    "churnTestPreds = logReg.predict(churnTest_X_test)"
   ]
  },
  {
   "cell_type": "code",
   "execution_count": 479,
   "id": "486000b5-7744-4643-954b-1026b793baeb",
   "metadata": {},
   "outputs": [],
   "source": [
    "output = pd.DataFrame({'CustomerID': churnTest['customerID'], 'Churn': churnTestPreds})\n",
    "output.to_csv('submission.csv', index=False, header=False)"
   ]
  },
  {
   "cell_type": "markdown",
   "id": "44f6a250-7180-444e-88b4-08519c6fe1de",
   "metadata": {},
   "source": [
    "## Storing the result of predicted variable in output file"
   ]
  },
  {
   "cell_type": "code",
   "execution_count": null,
   "id": "18c67443-d942-4250-9129-562171118e53",
   "metadata": {},
   "outputs": [],
   "source": [
    "output = pd.DataFrame({'REF Number': custTest.REF_NO, 'Revenue Grid': y_pred})\n",
    "output.to_csv('submission.csv', index=False, header=False)"
   ]
  },
  {
   "cell_type": "markdown",
   "id": "3b3d5ee7-a47d-4b5d-af2a-a7560274d407",
   "metadata": {},
   "source": [
    "---\n",
    "<a name = Section7></a>\n",
    "# **7. Actionable Insights**\n",
    "---"
   ]
  },
  {
   "cell_type": "markdown",
   "id": "92763505-f82f-4986-92db-739c6dbdb56a",
   "metadata": {},
   "source": [
    "### Insights for High net worth Individuals\n",
    "\n",
    "- Incentivise customers who are in the age group of 36-40 followed by 45-50 and 41-45.\n",
    "- Offer discount schemes for Professionals \n",
    "- Offer discounts targeted to Female customers.\n",
    "- Offer discounts to Retired customers to encourage them to invest in trading\n",
    "- Offer discounts to TOP 3 regions viz. South East, North West and Northern Ireland respectively."
   ]
  },
  {
   "cell_type": "code",
   "execution_count": null,
   "id": "702f96c0-d28b-431e-86d0-0e09c667fd02",
   "metadata": {},
   "outputs": [],
   "source": []
  }
 ],
 "metadata": {
  "kernelspec": {
   "display_name": "Python 3 (ipykernel)",
   "language": "python",
   "name": "python3"
  },
  "language_info": {
   "codemirror_mode": {
    "name": "ipython",
    "version": 3
   },
   "file_extension": ".py",
   "mimetype": "text/x-python",
   "name": "python",
   "nbconvert_exporter": "python",
   "pygments_lexer": "ipython3",
   "version": "3.9.7"
  }
 },
 "nbformat": 4,
 "nbformat_minor": 5
}
